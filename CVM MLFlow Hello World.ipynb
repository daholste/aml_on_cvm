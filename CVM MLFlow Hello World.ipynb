{
 "cells": [
  {
   "cell_type": "markdown",
   "id": "473fc400",
   "metadata": {},
   "source": [
    "# Hello World MLFlow on CVM"
   ]
  },
  {
   "cell_type": "markdown",
   "id": "acb99230",
   "metadata": {},
   "source": [
    "#### Install Dependencies"
   ]
  },
  {
   "cell_type": "markdown",
   "id": "575927c9",
   "metadata": {},
   "source": [
    "Before running this notebook:\n",
    "* you may want to change your default brower to Edge from IE\n",
    "* install dependencies in the Python env ```pip install azure-ai-ml azureml-mlflow mlflow pandas scikit-learn```\n",
    "* Install Azure CLI and run `az login`"
   ]
  },
  {
   "cell_type": "markdown",
   "id": "6dd2242b",
   "metadata": {},
   "source": [
    "#### Import dependencies"
   ]
  },
  {
   "cell_type": "code",
   "execution_count": null,
   "id": "a8ff8b74",
   "metadata": {},
   "outputs": [],
   "source": [
    "import os\n",
    "import warnings\n",
    "import sys\n",
    "\n",
    "import pandas as pd\n",
    "import numpy as np\n",
    "from sklearn.metrics import mean_squared_error, mean_absolute_error, r2_score\n",
    "from sklearn.model_selection import train_test_split\n",
    "from sklearn.linear_model import ElasticNet\n",
    "\n",
    "import mlflow\n",
    "import mlflow.sklearn\n",
    "from mlflow.tracking.client import MlflowClient\n",
    "\n",
    "import logging\n",
    "\n",
    "from azure.identity import DefaultAzureCredential\n",
    "from azure.identity import AzureCliCredential\n",
    "from azure.ai.ml import automl, Input, MLClient"
   ]
  },
  {
   "cell_type": "markdown",
   "id": "9b54370a",
   "metadata": {},
   "source": [
    "#### Link AML Workspace"
   ]
  },
  {
   "cell_type": "code",
   "execution_count": null,
   "id": "4ef8f7e8",
   "metadata": {},
   "outputs": [],
   "source": [
    "subscription_id = \"<your subscription id here>\"\n",
    "resource_group = \"<your resource group here>\"\n",
    "workspace_name = \"<your workspace here>\""
   ]
  },
  {
   "cell_type": "code",
   "execution_count": null,
   "id": "e16aaf19",
   "metadata": {},
   "outputs": [],
   "source": [
    "credential = DefaultAzureCredential()\n",
    "\n",
    "ml_client = MLClient(credential, subscription_id, resource_group, workspace_name)\n",
    "mlflow_tracking_uri = ml_client.workspaces.get(name=ml_client.workspace_name).mlflow_tracking_uri\n",
    "mlflow.set_tracking_uri(mlflow_tracking_uri)\n",
    "\n",
    "mlflow.set_experiment('cvm-mlflow-hello-world')"
   ]
  },
  {
   "cell_type": "markdown",
   "id": "9d7ce939",
   "metadata": {},
   "source": [
    "#### Train Model, Uploading Metrics and Model to AML Workspace"
   ]
  },
  {
   "cell_type": "code",
   "execution_count": null,
   "id": "e4275657",
   "metadata": {
    "scrolled": false
   },
   "outputs": [],
   "source": [
    "# Wine Quality Sample\n",
    "in_alpha = 0.1\n",
    "in_l1_ratio = 0.1\n",
    "\n",
    "\n",
    "logging.basicConfig(level=logging.WARN)\n",
    "logger = logging.getLogger(__name__)\n",
    "\n",
    "def eval_metrics(actual, pred):\n",
    "    rmse = np.sqrt(mean_squared_error(actual, pred))\n",
    "    mae = mean_absolute_error(actual, pred)\n",
    "    r2 = r2_score(actual, pred)\n",
    "    return rmse, mae, r2\n",
    "\n",
    "\n",
    "warnings.filterwarnings(\"ignore\")\n",
    "np.random.seed(40)\n",
    "\n",
    "# Read the wine-quality csv file from the URL\n",
    "csv_url =\\\n",
    "    'http://archive.ics.uci.edu/ml/machine-learning-databases/wine-quality/winequality-red.csv'\n",
    "try:\n",
    "    data = pd.read_csv(csv_url, sep=';')\n",
    "except Exception as e:\n",
    "    logger.exception(\n",
    "        \"Unable to download training & test CSV, check your internet connection. Error: %s\", e)\n",
    "\n",
    "# Split the data into training and test sets. (0.75, 0.25) split.\n",
    "train, test = train_test_split(data)\n",
    "\n",
    "# The predicted column is \"quality\" which is a scalar from [3, 9]\n",
    "train_x = train.drop([\"quality\"], axis=1)\n",
    "test_x = test.drop([\"quality\"], axis=1)\n",
    "train_y = train[[\"quality\"]]\n",
    "test_y = test[[\"quality\"]]\n",
    "\n",
    "# Set default values if no alpha is provided\n",
    "if float(in_alpha) is None:\n",
    "    alpha = 0.5\n",
    "else:\n",
    "    alpha = float(in_alpha)\n",
    "\n",
    "# Set default values if no l1_ratio is provided\n",
    "if float(in_l1_ratio) is None:\n",
    "    l1_ratio = 0.5\n",
    "else:\n",
    "    l1_ratio = float(in_l1_ratio)\n",
    "    \n",
    "# Useful for multiple runs (only doing one run in this sample notebook)    \n",
    "with mlflow.start_run() as run:\n",
    "    \n",
    "    # Execute ElasticNet\n",
    "    lr = ElasticNet(alpha=alpha, l1_ratio=l1_ratio, random_state=42)\n",
    "    lr.fit(train_x, train_y)\n",
    "\n",
    "    # Evaluate Metrics\n",
    "    predicted_qualities = lr.predict(test_x)\n",
    "    (rmse, mae, r2) = eval_metrics(test_y, predicted_qualities)\n",
    "\n",
    "    # Print out metrics\n",
    "    print(\"Elasticnet model (alpha=%f, l1_ratio=%f):\" % (alpha, l1_ratio))\n",
    "    print(\"  RMSE: %s\" % rmse)\n",
    "    print(\"  MAE: %s\" % mae)\n",
    "    print(\"  R2: %s\" % r2)\n",
    "\n",
    "    # Log parameter, metrics, and model to MLflow\n",
    "    mlflow.log_param(\"alpha\", alpha)\n",
    "    mlflow.log_param(\"l1_ratio\", l1_ratio)\n",
    "    mlflow.log_metric(\"rmse\", rmse)\n",
    "    mlflow.log_metric(\"r2\", r2)\n",
    "    mlflow.log_metric(\"mae\", mae)\n",
    "\n",
    "    mlflow.sklearn.log_model(lr, \"model\")"
   ]
  },
  {
   "cell_type": "markdown",
   "id": "4777d311",
   "metadata": {},
   "source": [
    "#### You should now be able to see your run, metrics, and model in the AML Workspace Studio UI!"
   ]
  },
  {
   "cell_type": "markdown",
   "id": "796695b5",
   "metadata": {},
   "source": [
    "#### Download Model from AML"
   ]
  },
  {
   "cell_type": "code",
   "execution_count": null,
   "id": "d4487910",
   "metadata": {
    "scrolled": true
   },
   "outputs": [],
   "source": [
    "run_id = run.info.run_id\n",
    "\n",
    "# Initialize MLFlow client\n",
    "mlflow_client = MlflowClient()\n",
    "\n",
    "# Create local folder\n",
    "local_dir = f\"./{run_id}\"\n",
    "if not os.path.exists(run_id):\n",
    "    os.mkdir(run_id)\n",
    "    \n",
    "downloaded_path = mlflow_client.download_artifacts(\n",
    "    run_id, \"model\", local_dir\n",
    ")\n",
    "\n",
    "print(downloaded_path)"
   ]
  },
  {
   "cell_type": "markdown",
   "id": "4e262707",
   "metadata": {},
   "source": [
    "#### Can now kick off mlflow server and then inference\n",
    "\n",
    "Kick off server in one cmd\n",
    "```mlflow models serve -m {downloaded_path} -p 1234```\n",
    "\n",
    "Send an inference request in another\n",
    "`curl -X POST -H \"Content-Type:application/json; format=pandas-split\" --data \"{\\\"columns\\\":[\\\"alcohol\\\", \\\"chlorides\\\", \\\"citric acid\\\", \\\"density\\\", \\\"fixed acidity\\\", \\\"free sulfur dioxide\\\", \\\"pH\\\", \\\"residual sugar\\\", \\\"sulphates\\\", \\\"total sulfur dioxide\\\", \\\"volatile acidity\\\"],\\\"data\\\":[[12.8, 0.029, 0.48, 0.98, 6.2, 29, 3.33, 1.2, 0.39, 75, 0.66]]}\" http://127.0.0.1:1234/invocations`"
   ]
  },
  {
   "cell_type": "code",
   "execution_count": null,
   "id": "75c1f06f",
   "metadata": {},
   "outputs": [],
   "source": []
  }
 ],
 "metadata": {
  "kernelspec": {
   "display_name": "Python [conda env:dev] *",
   "language": "python",
   "name": "conda-env-dev-py"
  },
  "language_info": {
   "codemirror_mode": {
    "name": "ipython",
    "version": 3
   },
   "file_extension": ".py",
   "mimetype": "text/x-python",
   "name": "python",
   "nbconvert_exporter": "python",
   "pygments_lexer": "ipython3",
   "version": "3.7.13"
  }
 },
 "nbformat": 4,
 "nbformat_minor": 5
}
